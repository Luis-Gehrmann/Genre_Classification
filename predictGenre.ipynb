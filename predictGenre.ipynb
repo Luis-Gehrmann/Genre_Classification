{
 "cells": [
  {
   "cell_type": "code",
   "execution_count": 2,
   "metadata": {},
   "outputs": [],
   "source": [
    "import os\n",
    "from pathlib import Path \n",
    "import pickle\n",
    "import uuid\n",
    "\n",
    "client_id = uuid.uuid4()\n",
    "os_dir = os.getcwd()\n",
    "#Create Folders if programm folder not exists\n",
    "Path(f\"{os_dir}\\\\Programm\").mkdir(parents=True, exist_ok=True)\n",
    "Path(f\"{os_dir}\\\\Clients\\\\\").mkdir(parents=True, exist_ok=True)"
   ]
  },
  {
   "cell_type": "code",
   "execution_count": 3,
   "metadata": {},
   "outputs": [],
   "source": [
    "Path(f\"{os_dir}\\\\Clients\\\\\"+str(client_id)).mkdir(parents=True, exist_ok=True)\n",
    "Path(f\"{os_dir}\\\\Clients\\\\\"+str(client_id)+\"\\\\Input\").mkdir(parents=True, exist_ok=True)\n",
    "Path(f\"{os_dir}\\\\Clients\\\\\"+str(client_id)+\"\\\\processed_Input\").mkdir(parents=True, exist_ok=True)\n",
    "\n",
    "\n",
    "path_to_soundfilefolder = f\"{os_dir}\\\\Clients\\\\\"+str(client_id)+\"\\\\Input\"\n",
    "# Hier müsste Inport dann in den Input Folder"
   ]
  },
  {
   "cell_type": "code",
   "execution_count": 4,
   "metadata": {},
   "outputs": [],
   "source": [
    "# Hier müsste Import dann in den Input Folder kopiert werden"
   ]
  },
  {
   "cell_type": "code",
   "execution_count": 5,
   "metadata": {},
   "outputs": [],
   "source": [
    "# Hier müsste Import dann auf WAV Gecheckt und ggf. konvertiert werden"
   ]
  },
  {
   "cell_type": "code",
   "execution_count": 6,
   "metadata": {},
   "outputs": [
    {
     "name": "stdout",
     "output_type": "stream",
     "text": [
      "classical.00017\n",
      "classical.00017\n",
      "classical.00017\n",
      "classical.00017\n",
      "classical.00017\n",
      "classical.00017\n",
      "classical.00017\n",
      "classical.00017\n",
      "classical.00017\n",
      "classical.00017\n"
     ]
    },
    {
     "name": "stderr",
     "output_type": "stream",
     "text": [
      "c:\\program files\\python37\\lib\\site-packages\\pydub\\utils.py:170: RuntimeWarning: Couldn't find ffmpeg or avconv - defaulting to ffmpeg, but may not work\n",
      "  warn(\"Couldn't find ffmpeg or avconv - defaulting to ffmpeg, but may not work\", RuntimeWarning)\n"
     ]
    }
   ],
   "source": [
    "#Anwendung der Aufspaltung in 3-Sekunden-Abschnitte auf sämtliche Dateien\n",
    "import os\n",
    "import soundfile as sf\n",
    "import math\n",
    "from pydub import AudioSegment\n",
    "from pathlib import Path \n",
    "\n",
    "#Länge eines Samples ist 3 Sekunden\n",
    "soundLength = 3\n",
    "\n",
    "filenumber = 0\n",
    "\n",
    "for i in os.listdir(path_to_soundfilefolder):\n",
    "    filenumber +=1\n",
    "    file = os.path.join(path_to_soundfilefolder, i)\n",
    "    f = sf.SoundFile(file)\n",
    "    seconds = (len(f) / f.samplerate)\n",
    "    slicecount=math.floor(seconds/soundLength)\n",
    "    for slicenumber in range(slicecount):\n",
    "        t1=slicenumber*soundLength*1000 #da Millisekunden\n",
    "        t2=t1 + soundLength*1000 #hat die Länge in Sekunden von soundLength\n",
    "        newAudio = AudioSegment.from_wav(file)\n",
    "        newAudio = newAudio[t1:t2]\n",
    "        filename = i.split(\".wav\")[0]\n",
    "        print(filename)\n",
    "        newAudio.export(f\"{os_dir}\\\\Clients\\\\{str(client_id)}\\\\processed_Input\\\\{filename}_{slicenumber}.wav\", format=\"wav\")"
   ]
  },
  {
   "cell_type": "code",
   "execution_count": 49,
   "metadata": {},
   "outputs": [
    {
     "name": "stdout",
     "output_type": "stream",
     "text": [
      "E:\\Notebooks\\Genre_Classification\\Clients\\0b46af17-0ea2-4156-9b6c-3e2e9740536f\\processed_Input\\\n",
      "Converting: classical.00017_0.wav\n",
      "Converting: classical.00017_1.wav\n",
      "Converting: classical.00017_2.wav\n",
      "Converting: classical.00017_3.wav\n",
      "Converting: classical.00017_4.wav\n",
      "Converting: classical.00017_5.wav\n",
      "Converting: classical.00017_6.wav\n",
      "Converting: classical.00017_7.wav\n",
      "Converting: classical.00017_8.wav\n",
      "Converting: classical.00017_9.wav\n"
     ]
    }
   ],
   "source": [
    "#Import der Sound-Dateien\\n\n",
    "import os\n",
    "import numpy as np\n",
    "import librosa\n",
    "import librosa.display\n",
    "\n",
    "os_dir = os.getcwd()\n",
    "#Create Folder if processed audio not exists\n",
    "path_to_soundfilefolder = f\"{os_dir}\\\\Clients\\\\\"+str(client_id)+\"\\\\processed_Input\\\\\"\n",
    "\n",
    "#enthält sämtliche Eigenschaften der Einträge\n",
    "features = []\n",
    "\n",
    "#enthält sämtliche Namen der Einträge\n",
    "filenames = []\n",
    "\n",
    "print(path_to_soundfilefolder)\n",
    "\n",
    "for filename in os.listdir(path_to_soundfilefolder):\n",
    "    #Name der Datei wird abgespeichert, um ihn am Ende auszugeben\n",
    "    filenames.append(filename)\n",
    "    \n",
    "    #hier kommen alle Attribute pro Soundfile rein\n",
    "    attributes = []\n",
    "    \n",
    "    #Umwandlung der Soundfiles in repräsentative Zahlenwerte\n",
    "    print(f\"Converting: {filename}\")\n",
    "    y, sr = librosa.load(path_to_soundfilefolder + filename)\n",
    "    \n",
    "    #extrahieren der aussagekräftigen Eigenschaften\n",
    "    stft_array = librosa.feature.chroma_stft(y=y, sr=sr)\n",
    "    stft_mean = np.mean(stft_array)\n",
    "    stft_var = np.var(stft_array)\n",
    "\n",
    "    cq_array = librosa.feature.chroma_cqt(y=y, sr=sr)\n",
    "    cq_mean = np.mean(cq_array)\n",
    "    cq_var = np.var(cq_array)\n",
    "\n",
    "    rms_array = librosa.feature.rms(y=y)\n",
    "    rms_mean = np.mean(rms_array)\n",
    "    rms_var = np.var(rms_array)\n",
    "\n",
    "    cent_array = librosa.feature.spectral_centroid(y=y, sr=sr)\n",
    "    cent_mean = np.mean(cent_array)\n",
    "    cent_var = np.var(cent_array)\n",
    "\n",
    "    spec_array = librosa.feature.spectral_bandwidth(y=y, sr=sr)\n",
    "    spec_mean = np.mean(spec_array)\n",
    "    spec_var = np.var(spec_array)\n",
    "\n",
    "    rolloff_array = librosa.feature.spectral_rolloff(y=y, sr=sr)\n",
    "    rolloff_mean = np.mean(rolloff_array)\n",
    "    rolloff_var = np.var(rolloff_array)\n",
    "\n",
    "    zero_crossing_rate_array = librosa.feature.zero_crossing_rate(y)\n",
    "    zero_crossing_rate_mean = np.mean(zero_crossing_rate_array)\n",
    "    zero_crossing_rate_var = np.var(zero_crossing_rate_array)\n",
    "\n",
    "    tonnetz_array = librosa.feature.tonnetz(y=y, sr=sr)\n",
    "    tonnetz_mean = np.mean(tonnetz_array)\n",
    "    tonnetz_var = np.var(tonnetz_array)\n",
    "\n",
    "    y_harmonic_array, y_percussive = librosa.effects.hpss(y)\n",
    "    tempo1, beat_frames = librosa.beat.beat_track(y=y_percussive, sr=sr)\n",
    "    tempo = np.float32(tempo1)\n",
    "    \n",
    "    y_harmonic_mean = np.mean(y_harmonic_array)\n",
    "    y_harmonic_var = np.var(y_harmonic_array)\n",
    "\n",
    "    attributes.extend([stft_mean, stft_var, cq_mean, cq_var, rms_mean, rms_var, cent_mean, cent_var, spec_mean, spec_var, rolloff_mean, rolloff_var, zero_crossing_rate_mean, zero_crossing_rate_var, tonnetz_mean, tonnetz_var, tempo, y_harmonic_mean, y_harmonic_var]) \n",
    "\n",
    "    #das mfcc-array besteht aus 20 arrays, für die jeweils mean und var bestimmt werden\n",
    "    mfcc_array = librosa.feature.mfcc(y=y, sr=sr)\n",
    "    for i in range(20):\n",
    "        mfcc_mean = np.mean(mfcc_array[i])\n",
    "        mfcc_var = np.var(mfcc_array[i])\n",
    "        attributes.extend([mfcc_mean, mfcc_var])  \n",
    "        \n",
    "    \n",
    "    #Anhängen eines Eintrages\n",
    "    features.append(attributes)\n",
    "    \n",
    "    "
   ]
  },
  {
   "cell_type": "code",
   "execution_count": 50,
   "metadata": {},
   "outputs": [],
   "source": [
    "import pandas as pd\n",
    "import sklearn.preprocessing as skp\n",
    "import joblib\n",
    "\n",
    "# normalize\n",
    "df = pd.DataFrame(features) \n",
    "cols = df.columns\n",
    "min_max_scaler = joblib.load(f'{os_dir}\\\\Programm\\\\scaler.gz')\n",
    "np_scaled = min_max_scaler.transform(features)\n",
    "features_normalized = pd.DataFrame(np_scaled, columns = cols)"
   ]
  },
  {
   "cell_type": "code",
   "execution_count": 51,
   "metadata": {},
   "outputs": [
    {
     "name": "stdout",
     "output_type": "stream",
     "text": [
      "         0         1         2         3         4         5         6   \\\n",
      "0  0.192232  0.676561  0.267552  0.655086  0.036481  0.000435  0.124266   \n",
      "1  0.296605  0.636883  0.361449  0.568228  0.154582  0.020073  0.177886   \n",
      "2  0.312058  0.524211  0.458480  0.464578  0.175887  0.012420  0.164828   \n",
      "3  0.211052  0.644216  0.206854  0.462392  0.179668  0.009529  0.209677   \n",
      "4  0.158054  0.607279  0.279090  0.525689  0.127594  0.015278  0.161027   \n",
      "5  0.167598  0.670439  0.276847  0.517060  0.018506  0.000650  0.243139   \n",
      "6  0.277025  0.696629  0.277867  0.587478  0.024634  0.000912  0.199917   \n",
      "7  0.225511  0.687240  0.359476  0.567369  0.031744  0.001386  0.159082   \n",
      "8  0.291390  0.700848  0.435917  0.569154  0.024421  0.001334  0.177089   \n",
      "9  0.217636  0.738245  0.290725  0.634007  0.050227  0.002802  0.167106   \n",
      "\n",
      "         7         8         9   ...        49        50        51        52  \\\n",
      "0  0.002978  0.176927  0.019970  ...  0.650155  0.030721  0.723570  0.050181   \n",
      "1  0.009991  0.315781  0.044303  ...  0.428261  0.041944  0.378697  0.077565   \n",
      "2  0.006772  0.297509  0.033489  ...  0.494946  0.033205  0.372369  0.042175   \n",
      "3  0.004052  0.327021  0.014056  ...  0.446074  0.038495  0.407272  0.036195   \n",
      "4  0.008394  0.240678  0.031253  ...  0.381107  0.035744  0.409076  0.044411   \n",
      "5  0.024004  0.378524  0.034505  ...  0.342280  0.101541  0.352460  0.263016   \n",
      "6  0.023730  0.343761  0.029690  ...  0.399192  0.085528  0.383341  0.096121   \n",
      "7  0.004728  0.240554  0.052262  ...  0.501585  0.045646  0.544878  0.157015   \n",
      "8  0.020960  0.276388  0.082611  ...  0.485121  0.045417  0.492487  0.063407   \n",
      "9  0.013654  0.264802  0.044911  ...  0.265036  0.089014  0.317213  0.190823   \n",
      "\n",
      "         53        54        55        56        57        58  \n",
      "0  0.554044  0.049763  0.708837  0.038816  0.670647  0.056110  \n",
      "1  0.361050  0.045217  0.415491  0.024328  0.429152  0.098467  \n",
      "2  0.303313  0.030077  0.403122  0.017871  0.491671  0.051865  \n",
      "3  0.421021  0.050770  0.425235  0.027800  0.411162  0.027518  \n",
      "4  0.280639  0.033089  0.361463  0.025625  0.436804  0.039040  \n",
      "5  0.331438  0.090413  0.478020  0.102013  0.588625  0.173515  \n",
      "6  0.308462  0.078952  0.381744  0.061530  0.417806  0.074672  \n",
      "7  0.455228  0.139077  0.360479  0.090496  0.270863  0.082737  \n",
      "8  0.489358  0.116537  0.598444  0.067141  0.405882  0.163544  \n",
      "9  0.385224  0.155196  0.596216  0.134353  0.525363  0.170010  \n",
      "\n",
      "[10 rows x 59 columns]\n"
     ]
    }
   ],
   "source": [
    "print(features_normalized)"
   ]
  },
  {
   "cell_type": "code",
   "execution_count": 52,
   "metadata": {},
   "outputs": [],
   "source": [
    "from tensorflow.keras.models import model_from_json\n",
    "\n",
    "#Model laden\n",
    "from tensorflow import keras\n",
    "loaded_model = keras.models.load_model(f'Programm/model_saved')\n",
    "#Dict laden\n",
    "#Pickle load:\n",
    "with open(f'Programm/prediction_index.p', 'rb') as fp:\n",
    "    prediction_index = pickle.load(fp)"
   ]
  },
  {
   "cell_type": "code",
   "execution_count": 53,
   "metadata": {},
   "outputs": [
    {
     "name": "stdout",
     "output_type": "stream",
     "text": [
      "Soundfile classical.00017_0.wav: Ausgabe: classical mit Confidence: 1.0\n",
      "Soundfile classical.00017_1.wav: Ausgabe: classical mit Confidence: 0.9997981190681458\n",
      "Soundfile classical.00017_2.wav: Ausgabe: classical mit Confidence: 0.9999914169311523\n",
      "Soundfile classical.00017_3.wav: Ausgabe: classical mit Confidence: 1.0\n",
      "Soundfile classical.00017_4.wav: Ausgabe: classical mit Confidence: 1.0\n",
      "Soundfile classical.00017_5.wav: Ausgabe: classical mit Confidence: 0.9999991655349731\n",
      "Soundfile classical.00017_6.wav: Ausgabe: classical mit Confidence: 0.9999912977218628\n",
      "Soundfile classical.00017_7.wav: Ausgabe: classical mit Confidence: 0.9991925358772278\n",
      "Soundfile classical.00017_8.wav: Ausgabe: classical mit Confidence: 0.9948620200157166\n",
      "Soundfile classical.00017_9.wav: Ausgabe: classical mit Confidence: 0.9999985694885254\n"
     ]
    }
   ],
   "source": [
    "#Model anwenden\n",
    "loaded_model.compile(optimizer='adam',\n",
    "             loss='sparse_categorical_crossentropy',\n",
    "             metrics=['accuracy'])\n",
    "\n",
    "predictions = loaded_model.predict(features_normalized)\n",
    "prediction = np.argmax(predictions,1)\n",
    "\n",
    "for i in range(len(prediction)):\n",
    "    print(f\"Soundfile {filenames[i]}: Ausgabe: {prediction_index[prediction[i]]} mit Confidence: {predictions[i][prediction[i]]}\")"
   ]
  }
 ],
 "metadata": {
  "kernelspec": {
   "display_name": "Python 3",
   "language": "python",
   "name": "python3"
  },
  "language_info": {
   "codemirror_mode": {
    "name": "ipython",
    "version": 3
   },
   "file_extension": ".py",
   "mimetype": "text/x-python",
   "name": "python",
   "nbconvert_exporter": "python",
   "pygments_lexer": "ipython3",
   "version": "3.7.0"
  }
 },
 "nbformat": 4,
 "nbformat_minor": 2
}
