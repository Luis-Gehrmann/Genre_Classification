{
 "cells": [
  {
   "cell_type": "code",
   "execution_count": null,
   "metadata": {},
   "outputs": [],
   "source": [
    "#Import der benötigten Libraries\n",
    "import numpy as np\n",
    "import matplotlib.pyplot as plt\n",
    "import os\n",
    "import librosa\n",
    "import librosa.display\n",
    "from IPython.display import Audio\n",
    "from sklearn.model_selection import train_test_split\n",
    "from sklearn.preprocessing import LabelEncoder\n",
    "import tensorflow as tf\n",
    "from tensorflow import keras as k"
   ]
  },
  {
   "cell_type": "code",
   "execution_count": null,
   "metadata": {},
   "outputs": [],
   "source": [
    "os_dir = os.getcwd()\n",
    "path_to_soundfilefolder = f'{os_dir}\\\\Datensatz\\\\processed_audio'\n",
    "print(path_to_soundfilefolder)"
   ]
  },
  {
   "cell_type": "code",
   "execution_count": null,
   "metadata": {},
   "outputs": [],
   "source": [
    "#Zeug von Librosa\n",
    "#y_harmonic, y_percussive = librosa.effects.hpss(y)  -------> noch beschreiben, was die einzelnen Attribute aussagen\n",
    "#tempo, beat_frames = librosa.beat.beat_track(y=y_percussive, sr=sr)\n",
    "#mfcc = librosa.feature.mfcc(y=y, sr=sr, hop_length=hop_length, n_mfcc=13)\n",
    "#mfcc_delta = librosa.feature.delta(mfcc)\n",
    "#beat_mfcc_delta = librosa.util.sync(np.vstack([mfcc, mfcc_delta]), beat_frames)\n",
    "#chromagram = librosa.feature.chroma_cqt(y=y_harmonic, sr=sr)\n",
    "#beat_chroma = librosa.util.sync(chromagram, beat_frames, aggregate=np.median)\n",
    "#beat_features = np.vstack([beat_chroma, beat_mfcc_delta])"
   ]
  },
  {
   "cell_type": "code",
   "execution_count": null,
   "metadata": {
    "scrolled": true
   },
   "outputs": [],
   "source": [
    "#unsere Attribute\n",
    "attributes = []\n",
    "\n",
    "y, sr = librosa.load(\"C:\\\\Users\\\\Luis\\\\Music_Genre_Git\\\\Datensatz\\\\processed_audio\\\\blues_1_0.wav\")\n",
    "stft_array = librosa.feature.chroma_stft(y=y, sr=sr)\n",
    "stft_mean = np.mean(stft_array)\n",
    "stft_var = np.var(stft_array)\n",
    "cq_array = librosa.feature.chroma_cqt(y=y, sr=sr)\n",
    "cq_mean = np.mean(cq_array)\n",
    "cq_var = np.var(cq_array)\n",
    "rms_array = librosa.feature.rms(y=y)\n",
    "rms_mean = np.mean(rms_array)\n",
    "rms_var = np.var(rms_array)\n",
    "cent_array = librosa.feature.spectral_centroid(y=y, sr=sr)\n",
    "cent_mean = np.mean(cent_array)\n",
    "cent_var = np.var(cent_array)\n",
    "spec_array = librosa.feature.spectral_bandwidth(y=y, sr=sr)\n",
    "spec_mean = np.mean(spec_array)\n",
    "spec_var = np.var(spec_array)\n",
    "\n",
    "attributes.extend([stft_mean, stft_var, rms_mean, rms_var, cent_mean, cent_var, spec_mean, spec_var]) \n",
    "print(attributes)"
   ]
  },
  {
   "cell_type": "code",
   "execution_count": null,
   "metadata": {},
   "outputs": [],
   "source": [
    "#Import der Sound-Dateien\\n\n",
    "import os\n",
    "import numpy as np\n",
    "\n",
    "#Zuordnung der Labels zu Zahlen\n",
    "genre_names = []\n",
    "\n",
    "#enthält sämtliche Einträge\n",
    "features = []\n",
    "#enthält die Ergebnisse sämtlicher Einträge\n",
    "genre = []\n",
    "\n",
    "print(path_to_soundfilefolder)\n",
    "\n",
    "for filename in os.listdir(path_to_soundfilefolder):\n",
    "    #hier kommen alle Attribute pro Soundfile rein\n",
    "    attributes = []\n",
    "    \n",
    "    #Umwandlung der Soundfiles in repräsentative Zahlenwerte\n",
    "    print(f\"Converting: {filename}\")\n",
    "    y, sr = librosa.load(f'{os_dir}\\\\Datensatz\\\\processed_audio\\\\' + filename)\n",
    "    \n",
    "    #extrahieren der aussagekräftigen Eigenschaften\n",
    "    stft_array = librosa.feature.chroma_stft(y=y, sr=sr)\n",
    "    stft_mean = np.mean(stft_array)\n",
    "    stft_var = np.var(stft_array)\n",
    "    cq_array = librosa.feature.chroma_cqt(y=y, sr=sr)\n",
    "    cq_mean = np.mean(cq_array)\n",
    "    cq_var = np.var(cq_array)\n",
    "    rms_array = librosa.feature.rms(y=y)\n",
    "    rms_mean = np.mean(rms_array)\n",
    "    rms_var = np.var(rms_array)\n",
    "    cent_array = librosa.feature.spectral_centroid(y=y, sr=sr)\n",
    "    cent_mean = np.mean(cent_array)\n",
    "    cent_var = np.var(cent_array)\n",
    "    spec_array = librosa.feature.spectral_bandwidth(y=y, sr=sr)\n",
    "    spec_mean = np.mean(spec_array)\n",
    "    spec_var = np.var(spec_array)\n",
    "    \n",
    "    #anhängen\n",
    "    attributes.extend([stft_mean, stft_var, rms_mean, rms_var, cent_mean, cent_var, spec_mean, spec_var])    \n",
    "    #Anhängen eines Eintrages\n",
    "    features.append(attributes)\n",
    "    \n",
    "    #Erzeugen der Outputs\n",
    "    genre_name = filename.split(\"_\")[0]\n",
    "    if genre_name not in genre_names:\n",
    "        genre_names.append(genre_name)\n",
    "    for i in range(len(genre_names)):\n",
    "        if genre_name == genre_names[i]:\n",
    "            genre.append(i)\n",
    "            print(genre_name,i)\n",
    "            break"
   ]
  },
  {
   "cell_type": "code",
   "execution_count": null,
   "metadata": {},
   "outputs": [],
   "source": [
    "genre_list = np.array(genre)\n",
    "feature_list = np.array(features)\n",
    "\n",
    "print(len(genre_list))\n",
    "print(len(feature_list))"
   ]
  },
  {
   "cell_type": "code",
   "execution_count": null,
   "metadata": {},
   "outputs": [],
   "source": [
    "from sklearn.model_selection import train_test_split\n",
    "x_train,x_test,y_train,y_test = train_test_split(feature_list,genre_list,test_size = 0.2,random_state = 42)\n",
    "\n",
    "print(len(x_train))\n",
    "print(y_train)\n"
   ]
  },
  {
   "cell_type": "code",
   "execution_count": null,
   "metadata": {},
   "outputs": [],
   "source": [
    "print(x_train[0])\n",
    "print(y_train[0])"
   ]
  },
  {
   "cell_type": "code",
   "execution_count": null,
   "metadata": {},
   "outputs": [],
   "source": [
    "#Programmierung des Modells\n",
    "import tensorflow as tf\n",
    "from tensorflow import keras\n",
    "\n",
    "model = keras.Sequential([\n",
    "    keras.layers.Dense(64, activation=tf.nn.relu),\n",
    "    keras.layers.Dense(32, activation=tf.nn.relu),\n",
    "    keras.layers.Dense(16, activation=tf.nn.relu),\n",
    "    keras.layers.Dense(10, activation=tf.nn.softmax)\n",
    "])\n",
    "\n",
    "model.compile(optimizer='adam',\n",
    "             loss='sparse_categorical_crossentropy',\n",
    "             metrics=['accuracy'])\n",
    "\n",
    "model.fit(x_train, y_train, epochs=300)\n",
    "model.summary()"
   ]
  },
  {
   "cell_type": "code",
   "execution_count": null,
   "metadata": {},
   "outputs": [],
   "source": [
    "#bestes Modell aus dem Internet\n",
    "model1 = k.models.Sequential([\n",
    "    k.layers.Dense(1024, activation='relu', input_shape=(x_train.shape[1],)),\n",
    "    k.layers.Dropout(0.3),\n",
    "    \n",
    "    k.layers.Dense(512, activation='relu'),\n",
    "    k.layers.Dropout(0.3),\n",
    "\n",
    "    k.layers.Dense(256, activation='relu'),\n",
    "    k.layers.Dropout(0.3),\n",
    "\n",
    "    k.layers.Dense(128, activation='relu'),\n",
    "    k.layers.Dropout(0.3),\n",
    "\n",
    "    k.layers.Dense(64, activation='relu'),\n",
    "    k.layers.Dropout(0.3),\n",
    "\n",
    "    k.layers.Dense(10, activation='softmax'),\n",
    "])\n",
    "print(model1.summary())\n",
    "\n",
    "model1.compile(optimizer='rmsprop',\n",
    "                  loss='sparse_categorical_crossentropy',\n",
    "                  metrics='accuracy')\n",
    "\n",
    "model1.fit(x_train, y_train, epochs=300)"
   ]
  },
  {
   "cell_type": "code",
   "execution_count": null,
   "metadata": {
    "scrolled": true
   },
   "outputs": [],
   "source": [
    "import numpy as np\n",
    "import sklearn.metrics\n",
    "\n",
    "predictions_confidences = model.predict(x_test)\n",
    "\n",
    "predictions = []\n",
    "for entry in predictions_confidences:\n",
    "        predictions.append(np.argmax(entry))\n",
    "print(predictions)"
   ]
  },
  {
   "cell_type": "code",
   "execution_count": null,
   "metadata": {},
   "outputs": [],
   "source": [
    "print(f\"{sklearn.metrics.classification_report(y_test, predictions)}\\n\")"
   ]
  },
  {
   "cell_type": "code",
   "execution_count": null,
   "metadata": {},
   "outputs": [],
   "source": [
    "#test librosa\n",
    "y, sr = librosa.load(f'{os_dir}\\\\Datensatz\\\\processed_audio\\\\blues_1_0.wav')\n",
    "print(y, sr)"
   ]
  },
  {
   "cell_type": "code",
   "execution_count": null,
   "metadata": {},
   "outputs": [],
   "source": [
    "tempo, beat_frames = librosa.beat.beat_track(y=y, sr=sr)\n",
    "print(tempo, beat_frames)"
   ]
  }
 ],
 "metadata": {
  "kernelspec": {
   "display_name": "Python 3",
   "language": "python",
   "name": "python3"
  },
  "language_info": {
   "codemirror_mode": {
    "name": "ipython",
    "version": 3
   },
   "file_extension": ".py",
   "mimetype": "text/x-python",
   "name": "python",
   "nbconvert_exporter": "python",
   "pygments_lexer": "ipython3",
   "version": "3.7.3"
  }
 },
 "nbformat": 4,
 "nbformat_minor": 2
}
